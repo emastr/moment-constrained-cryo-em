{
 "cells": [
  {
   "cell_type": "code",
   "execution_count": 10,
   "metadata": {},
   "outputs": [],
   "source": [
    "import sys\n",
    "sys.path.append('../')\n",
    "\n",
    "import jax\n",
    "jax.config.update(\"jax_enable_x64\", True)\n",
    "\n",
    "import jax.numpy as jnp\n",
    "import numpy as np\n",
    "import matplotlib.pyplot as plt\n",
    "from src.signalprocessing import iF, F\n",
    "from src.trees import get_1d_tree, get_data_1d, plot_1d_tree, is_far, flatten_around_point, plot_1d_tree, data_plotter\n",
    "from src.particles import nodes_to_array, potential_from_array, potential_from_points\n",
    "import jax.numpy as jnp"
   ]
  },
  {
   "cell_type": "code",
   "execution_count": null,
   "metadata": {},
   "outputs": [],
   "source": [
    "# DATA\n",
    "data_dir = \"/home/emastr/moment-constrained-cryo-em/project_2/data/\"\n",
    "seed = 0\n",
    "key = jax.random.PRNGKey(seed)\n",
    "ratio = 0.3\n",
    "N = 1000\n",
    "max_points = 1\n",
    "center_x, width = 0.5, 1.0\n",
    "\n",
    "i = np.arange(N)\n",
    "x = jax.random.uniform(key, (N,), minval=center_x-width/2, maxval=center_x+width/2)\n",
    "tree_1d = get_1d_tree(i, x, center_x, width, max_points=max_points, data_func=get_data_1d)\n",
    "\n",
    "\n",
    "# test\n",
    "if True:\n",
    "    new_leaves_1d = flatten_around_point(x[10], ratio, tree_1d)\n",
    "    new_leavy_tree_1d = {\"children\": new_leaves_1d, \"data\": tree_1d[\"data\"]}\n",
    "    x0_features = nodes_to_array(new_leaves_1d)\n",
    "\n",
    "    plt.figure(figsize=(20, 4))\n",
    "    plot_1d_tree(tree_1d, depth=0, data_plotter=data_plotter)\n",
    "\n",
    "    plt.figure(figsize=(20, 4))\n",
    "    plot_1d_tree(new_leavy_tree_1d, data_plotter=data_plotter)"
   ]
  },
  {
   "cell_type": "code",
   "execution_count": null,
   "metadata": {},
   "outputs": [
    {
     "name": "stdout",
     "output_type": "stream",
     "text": [
      "Computing training data...\n",
      "True value: 7.95, FMM value: 7.96, Rel. Error: 2.79e-04 ===========\r"
     ]
    },
    {
     "name": "stdout",
     "output_type": "stream",
     "text": [
      "True value: 7.52, FMM value: 7.52, Rel. Error: 3.37e-04 ===========\r"
     ]
    }
   ],
   "source": [
    "\n",
    "training_data = []\n",
    "data_error = []\n",
    "print(\"Computing training data...\")\n",
    "for x0 in x:\n",
    "    new_leaves_1d = flatten_around_point(x0, ratio, tree_1d)\n",
    "    new_leaves_1d = [leaf for leaf in new_leaves_1d if is_far(leaf, x0, ratio)]\n",
    "    x0_features = nodes_to_array(new_leaves_1d)\n",
    "    x0_features = x0_features.at[:,-2].set(x0_features[:,-2] - x0)\n",
    "    x0_features = x0_features.at[:,:-2].set(x0_features[:,:-2]/len(x))\n",
    "    \n",
    "    val = potential_from_points(x0, x) / len(x)\n",
    "    fmm_val = potential_from_array(0., x0_features)\n",
    "    error = jnp.abs(val - fmm_val)/jnp.abs(val)\n",
    "    print(f\"True value: {val:.2f}, FMM value: {fmm_val:.2f}, Rel. Error: {error:.2e} ===========\", end='\\r')\n",
    "    data_error.append(error)\n",
    "    training_data.append((x0_features, val))   \n",
    "    \n",
    "info_dict = {\"num_points\": N, \"center_x\": center_x, \"width\": width, \"ratio\": ratio, \"max_points\": max_points, \"seed\": seed}\n",
    "jnp.save(f'{data_dir}/raw_data_seed{seed}.npy', {\"data\": training_data, \"info\": info_dict})"
   ]
  }
 ],
 "metadata": {
  "kernelspec": {
   "display_name": "jax",
   "language": "python",
   "name": "python3"
  },
  "language_info": {
   "codemirror_mode": {
    "name": "ipython",
    "version": 3
   },
   "file_extension": ".py",
   "mimetype": "text/x-python",
   "name": "python",
   "nbconvert_exporter": "python",
   "pygments_lexer": "ipython3",
   "version": "3.12.4"
  }
 },
 "nbformat": 4,
 "nbformat_minor": 2
}
