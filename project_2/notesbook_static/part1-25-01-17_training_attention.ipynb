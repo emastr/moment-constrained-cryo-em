{
 "cells": [
  {
   "cell_type": "code",
   "execution_count": 1,
   "metadata": {},
   "outputs": [],
   "source": [
    "import sys\n",
    "sys.path.append('../')\n",
    "\n",
    "import jax\n",
    "# set jax precision 64 bit\n",
    "jax.config.update(\"jax_enable_x64\", True)\n",
    "\n",
    "from jax import vmap\n",
    "import jax.numpy as jnp\n",
    "import matplotlib.pyplot as plt\n",
    "from src.training import train_model\n",
    "from flax import linen as nn"
   ]
  },
  {
   "cell_type": "code",
   "execution_count": 2,
   "metadata": {},
   "outputs": [],
   "source": [
    "class MultiHeadSelfAttention(nn.Module):\n",
    "    embed_dim: int\n",
    "    num_heads: int\n",
    "\n",
    "    def setup(self):\n",
    "        assert self.embed_dim % self.num_heads == 0, \"Embedding dimension must be divisible by the number of heads.\"\n",
    "        self.head_dim = self.embed_dim // self.num_heads\n",
    "        self.qkv_proj = nn.Dense(self.embed_dim * 3, use_bias=False)  # For Query, Key, Value\n",
    "        self.out_proj = nn.Dense(self.embed_dim, use_bias=False)\n",
    "        #self.v_test = nn.Dense(self.embed_dim, use_bias=False)\n",
    "\n",
    "    def __call__(self, x, mask=None):\n",
    "        seq_len, input_dim = x.shape\n",
    "        \n",
    "        if mask is None:\n",
    "            mask = jnp.ones((seq_len,))\n",
    "        \n",
    "        qkv = self.qkv_proj(x)  # Shape: (batch_size, seq_len, embed_dim * 3)\n",
    "        qkv = qkv.reshape(seq_len, 3, self.num_heads, self.head_dim)\n",
    "        q, k, v = jnp.split(qkv, 3, axis=1)  # Each: (batch_size, seq_len, num_heads, head_dim)\n",
    "        q, k, v = q.squeeze(1), k.squeeze(1), v.squeeze(1)\n",
    "\n",
    "        # Compute attention weights\n",
    "        attn_weights = jnp.einsum(\"qhd,khd->hqk\", q, k) / jnp.sqrt(self.head_dim)\n",
    "        attn_weights = jnp.where(mask[None, None, :], attn_weights, -1e9)\n",
    "        attn_weights = jax.nn.softmax(attn_weights, axis=-1)\n",
    "        attn_weights = jnp.where(mask[None, :, None], attn_weights, 0.)\n",
    "        \n",
    "        # Compute attention output\n",
    "        attn_output = jnp.einsum(\"hqk,khd->qhd\", attn_weights, v)\n",
    "        attn_output = attn_output.reshape(seq_len, self.embed_dim)\n",
    "        return attn_output #self.out_proj(attn_output)\n",
    "\n",
    "\n",
    "\n",
    "class Model(nn.Module):\n",
    "    embed_dim: int\n",
    "    num_heads: int\n",
    "    \n",
    "    \n",
    "    def setup(self):\n",
    "        self.multihead = MultiHeadSelfAttention(self.embed_dim, self.num_heads)\n",
    "        self.lin = nn.Dense(1)\n",
    "        \n",
    "    def __call__(self, x, mask=None):\n",
    "        y = self.multihead(x, mask)\n",
    "        y = y.flatten()\n",
    "        #x = self.lin(x) #return self.lin(x)# + jnp.sum(x)\n",
    "        return self.lin(y) #jnp.sum(y) / x.shape[1] #+ jnp.sum(x) #self.lin(x) #jnp.sum(x)"
   ]
  },
  {
   "cell_type": "code",
   "execution_count": 3,
   "metadata": {},
   "outputs": [
    {
     "name": "stderr",
     "output_type": "stream",
     "text": [
      "An NVIDIA GPU may be present on this machine, but a CUDA-enabled jaxlib is not installed. Falling back to cpu.\n"
     ]
    },
    {
     "name": "stdout",
     "output_type": "stream",
     "text": [
      "[-0.0031083]\n",
      "[0.]\n"
     ]
    }
   ],
   "source": [
    "key = jax.random.PRNGKey(0)\n",
    "\n",
    "data_dir = \"/home/emastr/moment-constrained-cryo-em/project_2/data/\"\n",
    "data = jnp.load(f\"{data_dir}/train_data.npy\", allow_pickle=True).item()\n",
    "\n",
    "#x_train_pad = data[\"x\"][:,:,:-2]\n",
    "#x_train_pad = x_train_pad[:,:3,30:34]\n",
    "#mask_train_pad = data[\"mask\"][:,:3]\n",
    "\n",
    "x_train_pad = data[\"x\"][:,:,:-2]\n",
    "mask_train_pad = data[\"mask\"]\n",
    "y_train_pad = data[\"y\"]\n",
    "\n",
    "\n",
    "# MODEL\n",
    "num_data, seq_len, token_dim = x_train_pad.shape\n",
    "\n",
    "num_epochs= 2000\n",
    "num_heads = 2\n",
    "\n",
    "\n",
    "key = jax.random.PRNGKey(0)\n",
    "model = Model(token_dim, num_heads)#, dropout_rate)\n",
    "params = model.init(key, x_train_pad[0], mask_train_pad[0])\n",
    "\n",
    "x_test = x_train_pad[0]\n",
    "mask_test = mask_train_pad[0]\n",
    "\n",
    "# Test 1: Invariance to shuffling of sequences\n",
    "idx_seq = jnp.arange(seq_len)\n",
    "idx_seq = jax.random.permutation(key, idx_seq, axis=0)\n",
    "x_test_shuffled = x_test[idx_seq]\n",
    "mask_test_shuffled = mask_test[idx_seq]\n",
    "print(model.apply(params, x_test, mask_test) - model.apply(params, x_test_shuffled, mask_test_shuffled))\n",
    "\n",
    "# Test 2: Invariance to values of masked tokens\n",
    "mask_test_pert = mask_test.at[-1].set(0)\n",
    "x_test_pert = x_test.at[-1].set(x_test[0])\n",
    "print(model.apply(params, x_test, mask_test_pert) - model.apply(params, x_test_pert, mask_test_pert))"
   ]
  },
  {
   "cell_type": "code",
   "execution_count": 4,
   "metadata": {},
   "outputs": [
    {
     "name": "stdout",
     "output_type": "stream",
     "text": [
      "loss:47.05075335251342\n",
      "0.00028312467039293316\r"
     ]
    }
   ],
   "source": [
    "\n",
    "#params['params']['lin']['kernel'] = jnp.ones_like(params['params']['lin']['kernel'])\n",
    "#params['params']['lin']['bias'] = jnp.zeros_like(params['params']['lin']['bias'])\n",
    "\n",
    "\n",
    "loss_pointwise = lambda param, x, y: (model.apply(param, x) - y)**2\n",
    "loss_fcn = lambda param: jnp.mean(vmap(loss_pointwise, (None, 0, 0))(param, x_train_pad, y_train_pad)) / jnp.std(y_train_pad)\n",
    "#print(vmap(func, (None, 0))(params, x_train_pad) - vmap(jnp.sum)(x_train_pad))\n",
    "#idx = \n",
    "\n",
    "print(f\"loss:{loss_fcn(params)}\")\n",
    "for i in range(10000):\n",
    "    loss, grads = jax.value_and_grad(loss_fcn)(params)\n",
    "    params = jax.tree.map(lambda p, g: p - 1e-1*g, params, grads)\n",
    "    print(loss, end='\\r')\n",
    "#params, avg_losses, max_losses, min_losses  = train_model(key, model, x_train_pad, y_train_pad, mask_train_pad, batch_size, num_epochs, 1e-3)\n"
   ]
  },
  {
   "cell_type": "code",
   "execution_count": 5,
   "metadata": {},
   "outputs": [],
   "source": [
    "# Training observations:\n",
    "# - Loss is choppy (shoots back up and then down)\n",
    "# - Stays at 0.1\n",
    "# - Model should be able to fit the data\n",
    "\n",
    "# Next steps:\n",
    "# - Try to overfit a simple function (1. everywhere worked)\n",
    "# - Try to overfit on a small data set ()\n",
    "# - \n",
    "\n",
    "# * Super important for learning: Do not use bias in the QKV formulation??? "
   ]
  }
 ],
 "metadata": {
  "kernelspec": {
   "display_name": "jax",
   "language": "python",
   "name": "python3"
  },
  "language_info": {
   "codemirror_mode": {
    "name": "ipython",
    "version": 3
   },
   "file_extension": ".py",
   "mimetype": "text/x-python",
   "name": "python",
   "nbconvert_exporter": "python",
   "pygments_lexer": "ipython3",
   "version": "3.12.4"
  }
 },
 "nbformat": 4,
 "nbformat_minor": 2
}
