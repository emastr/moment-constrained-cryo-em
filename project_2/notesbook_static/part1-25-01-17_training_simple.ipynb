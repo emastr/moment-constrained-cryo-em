{
 "cells": [
  {
   "cell_type": "code",
   "execution_count": 1,
   "metadata": {},
   "outputs": [],
   "source": [
    "import sys\n",
    "sys.path.append('../')\n",
    "\n",
    "import jax\n",
    "# set jax precision 64 bit\n",
    "jax.config.update(\"jax_enable_x64\", True)\n",
    "\n",
    "from jax import vmap\n",
    "import jax.numpy as jnp\n",
    "import matplotlib.pyplot as plt\n",
    "from src.training import train_model\n",
    "from flax import linen as nn"
   ]
  },
  {
   "cell_type": "code",
   "execution_count": null,
   "metadata": {},
   "outputs": [
    {
     "name": "stderr",
     "output_type": "stream",
     "text": [
      "An NVIDIA GPU may be present on this machine, but a CUDA-enabled jaxlib is not installed. Falling back to cpu.\n"
     ]
    },
    {
     "name": "stdout",
     "output_type": "stream",
     "text": [
      "loss:53.53648021259098\n",
      "0.29629476351426265\r"
     ]
    }
   ],
   "source": [
    "data_dir = \"/home/emastr/moment-constrained-cryo-em/project_2/data/\"\n",
    "data = jnp.load(f\"{data_dir}/train_data.npy\", allow_pickle=True).item()\n",
    "\n",
    "x_train_pad = data[\"x\"]#[:,:,:-2]\n",
    "y_train_pad = data[\"y\"]\n",
    "mask_train_pad = data[\"mask\"]\n",
    "\n",
    "\n",
    "class Model(nn.Module):\n",
    "    \n",
    "    def setup(self):\n",
    "        self.lin = nn.Dense(1)\n",
    "        \n",
    "    def __call__(self, x, mask=None):\n",
    "        x = x.flatten()\n",
    "        x = self.lin(x) #return self.lin(x)# + jnp.sum(x)\n",
    "        return x\n",
    "\n",
    "key = jax.random.PRNGKey(0)\n",
    "\n",
    "# MODEL\n",
    "num_epochs= 2000\n",
    "num_heads = 1\n",
    "ff_hidden_dim = 128\n",
    "num_layers = 6\n",
    "batch_size = 8\n",
    "\n",
    "key = jax.random.PRNGKey(0)\n",
    "mnum_data, seq_len, embed_dim = x_train_pad.shape\n",
    "model = Model()\n",
    "params = model.init(key, x_train_pad[0])\n",
    "\n",
    "loss_pointwise = lambda param, x, y: (model.apply(param, x) - y)**2\n",
    "loss_fcn = lambda param: jnp.mean(vmap(loss_pointwise, (None, 0, 0))(param, x_train_pad, y_train_pad))\n",
    "\n",
    "print(f\"loss:{loss_fcn(params)}\")\n",
    "for i in range(10000):\n",
    "    loss, grads = jax.value_and_grad(loss_fcn)(params)\n",
    "    params = jax.tree.map(lambda p, g: p - 0.1*g, params, grads)\n",
    "    print(loss, end='\\r')"
   ]
  },
  {
   "cell_type": "code",
   "execution_count": 3,
   "metadata": {},
   "outputs": [
    {
     "name": "stdout",
     "output_type": "stream",
     "text": [
      "[0.01697764]\n",
      "[-0.00674868]\n",
      "[-0.01282304]\n",
      "[-0.04982848]\n",
      "[-0.06620834]\n",
      "[0.04669315]\n",
      "[-0.0796339]\n",
      "[0.08150409]\n",
      "[0.03563858]\n",
      "[0.11095403]\n"
     ]
    },
    {
     "data": {
      "image/png": "[encoded data removed]",
      "text/plain": [
       "<Figure size 640x480 with 1 Axes>"
      ]
     },
     "metadata": {},
     "output_type": "display_data"
    }
   ],
   "source": [
    "kern = params['params']['lin']['kernel'].reshape(x_train_pad[0].shape)\n",
    "bias = params['params']['lin']['bias']\n",
    "plt.imshow(kern)\n",
    "\n",
    "for idx in range(10):\n",
    "    print(jnp.sum(kern * x_train_pad[idx]) + bias- y_train_pad[idx])\n"
   ]
  },
  {
   "cell_type": "code",
   "execution_count": 4,
   "metadata": {},
   "outputs": [],
   "source": [
    "# Training observations:\n",
    "# - Loss is choppy (shoots back up and then down)\n",
    "# - Stays at 0.1\n",
    "# - Model should be able to fit the data\n",
    "\n",
    "# Next steps:\n",
    "# - Try to overfit a simple function (1. everywhere worked)\n",
    "# - Try to overfit on a small data set ()\n",
    "# - "
   ]
  }
 ],
 "metadata": {
  "kernelspec": {
   "display_name": "jax",
   "language": "python",
   "name": "python3"
  },
  "language_info": {
   "codemirror_mode": {
    "name": "ipython",
    "version": 3
   },
   "file_extension": ".py",
   "mimetype": "text/x-python",
   "name": "python",
   "nbconvert_exporter": "python",
   "pygments_lexer": "ipython3",
   "version": "3.12.4"
  }
 },
 "nbformat": 4,
 "nbformat_minor": 2
}
