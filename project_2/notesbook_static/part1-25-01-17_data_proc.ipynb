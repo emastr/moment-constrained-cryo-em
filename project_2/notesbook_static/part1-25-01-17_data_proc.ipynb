{
 "cells": [
  {
   "cell_type": "code",
   "execution_count": 1,
   "metadata": {},
   "outputs": [],
   "source": [
    "import sys\n",
    "sys.path.append('../')\n",
    "\n",
    "import jax\n",
    "jax.config.update(\"jax_enable_x64\", True)\n",
    "\n",
    "from jax import vmap\n",
    "import jax.numpy as jnp\n",
    "import matplotlib.pyplot as plt\n",
    "from src.signalprocessing import F\n",
    "from src.particles import array_to_density_domain_feature, array_to_potential_feature, array_to_features, potential_from_vec\n",
    "from src.dataprocessing import create_padding_mask, pad_data"
   ]
  },
  {
   "cell_type": "code",
   "execution_count": 2,
   "metadata": {},
   "outputs": [
    {
     "name": "stderr",
     "output_type": "stream",
     "text": [
      "An NVIDIA GPU may be present on this machine, but a CUDA-enabled jaxlib is not installed. Falling back to cpu.\n"
     ]
    }
   ],
   "source": [
    "data_dir = \"/home/emastr/moment-constrained-cryo-em/project_2/data/\"\n",
    "seed = 0\n",
    "data_dict = jnp.load(f'{data_dir}/raw_data_seed{seed}.npy', allow_pickle=True).item()\n",
    "data_array = data_dict['data']\n",
    "N = data_dict['info']['num_points']\n",
    "\n",
    "training_data = [(array_to_features(x, array_to_potential_feature),y) for (x,y) in data_array]\n",
    "\n",
    "x_train_pad, y_train_pad = pad_data(training_data)\n",
    "x_train_pad = x_train_pad.astype(jnp.float64)\n",
    "mask_train_pad = create_padding_mask(jnp.linalg.norm(x_train_pad, axis=2))\n",
    "\n",
    "train_data_final = {'x': x_train_pad, 'y': y_train_pad, 'mask': mask_train_pad}\n",
    "jnp.save(f'{data_dir}/train_data_dens_seed{seed}.npy', train_data_final)"
   ]
  },
  {
   "cell_type": "code",
   "execution_count": 3,
   "metadata": {},
   "outputs": [
    {
     "data": {
      "text/plain": [
       "<matplotlib.image.AxesImage at 0x7fa5957b7560>"
      ]
     },
     "execution_count": 3,
     "metadata": {},
     "output_type": "execute_result"
    },
    {
     "data": {
      "image/png": "[encoded data removed]",
      "text/plain": [
       "<Figure size 640x480 with 1 Axes>"
      ]
     },
     "metadata": {},
     "output_type": "display_data"
    }
   ],
   "source": [
    "def potential_from_real_feature(x0, x):\n",
    "    f = x[:-2]\n",
    "    f = F(f)\n",
    "    c, w = x[-2], x[-1]\n",
    "    #t = jnp.linspace(c-w/2, c+w/2, len(f)+1)[:-1]\n",
    "    #return jnp.sum(f * 1/jnp.abs(x0 - t))\n",
    "    return potential_from_vec(x0, jnp.concatenate([f, jnp.array([c, w])]))\n",
    "\n",
    "def potential_from_real_features(x0, x, mask):\n",
    "    contributions = vmap(lambda x: potential_from_real_feature(x0, x))(x)   \n",
    "    return jnp.sum(jnp.where(mask, contributions, 0), axis=0)\n",
    "\n",
    "\n",
    "idx = 6\n",
    "#plt.subplot(121)\n",
    "plt.imshow(x_train_pad[idx,:,:-2])#, vmin=-1, vmax=1)\n",
    "#print(y_train_pad)#jnp.sum(x_train_pad[:,:,:-2]) - y_train_pad)\n",
    "#print((vmap(jnp.sum)(x_train_pad[:,:,:-2]) - y_train_pad)/y_train_pad)\n",
    "#plt.subplot(122)\n",
    "#lt.scatter(jnp.abs(x_train_pad[idx,:,-2]), vmap(jnp.linalg.norm)(x_train_pad[idx,:,:-2]))"
   ]
  }
 ],
 "metadata": {
  "kernelspec": {
   "display_name": "jax",
   "language": "python",
   "name": "python3"
  },
  "language_info": {
   "codemirror_mode": {
    "name": "ipython",
    "version": 3
   },
   "file_extension": ".py",
   "mimetype": "text/x-python",
   "name": "python",
   "nbconvert_exporter": "python",
   "pygments_lexer": "ipython3",
   "version": "3.12.4"
  }
 },
 "nbformat": 4,
 "nbformat_minor": 2
}
