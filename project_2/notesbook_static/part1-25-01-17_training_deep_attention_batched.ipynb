{
 "cells": [
  {
   "cell_type": "code",
   "execution_count": 1,
   "metadata": {},
   "outputs": [],
   "source": [
    "import sys\n",
    "sys.path.append('../')\n",
    "\n",
    "import jax\n",
    "# set jax precision 64 bit\n",
    "jax.config.update(\"jax_enable_x64\", True)\n",
    "\n",
    "from jax import vmap\n",
    "import jax.numpy as jnp\n",
    "import matplotlib.pyplot as plt\n",
    "from src.training import train_model, make_batches\n",
    "from flax import linen as nn"
   ]
  },
  {
   "cell_type": "code",
   "execution_count": 2,
   "metadata": {},
   "outputs": [],
   "source": [
    "class MultiHeadSelfAttention(nn.Module):\n",
    "    embed_dim: int\n",
    "    num_heads: int\n",
    "\n",
    "    def setup(self):\n",
    "        assert self.embed_dim % self.num_heads == 0, \"Embedding dimension must be divisible by the number of heads.\"\n",
    "        self.head_dim = self.embed_dim // self.num_heads\n",
    "        self.qkv_proj = nn.Dense(self.embed_dim * 3, use_bias=False)  # For Query, Key, Value\n",
    "        self.out_proj = nn.Dense(self.embed_dim)\n",
    "\n",
    "    def __call__(self, x, mask=None):\n",
    "        seq_len, input_dim = x.shape\n",
    "        \n",
    "        if mask is None:\n",
    "            mask = jnp.ones((seq_len,))\n",
    "        \n",
    "        qkv = self.qkv_proj(x)  # Shape: (batch_size, seq_len, embed_dim * 3)\n",
    "        qkv = qkv.reshape(seq_len, 3, self.num_heads, self.head_dim)\n",
    "        q, k, v = jnp.split(qkv, 3, axis=1)  # Each: (batch_size, seq_len, num_heads, head_dim)\n",
    "        q, k, v = q.squeeze(1), k.squeeze(1), v.squeeze(1)\n",
    "\n",
    "        # Compute attention weights\n",
    "        attn_weights = jnp.einsum(\"qhd,khd->hqk\", q, k) / jnp.sqrt(self.head_dim)\n",
    "        attn_weights = jnp.where(mask[None, None, :], attn_weights, -1e9)\n",
    "        attn_weights = jax.nn.softmax(attn_weights, axis=-1)\n",
    "        attn_weights = jnp.where(mask[None, :, None], attn_weights, 0.)\n",
    "        \n",
    "        # Compute attention output\n",
    "        attn_output = jnp.einsum(\"hqk,khd->qhd\", attn_weights, v)\n",
    "        attn_output = attn_output.reshape(seq_len, self.embed_dim)\n",
    "        return self.out_proj(attn_output)\n",
    "\n",
    "\n",
    "class TransformerEncoderLayer(nn.Module):\n",
    "    embed_dim: int\n",
    "    num_heads: int\n",
    "\n",
    "    def setup(self):\n",
    "        self.attention = MultiHeadSelfAttention(self.embed_dim, self.num_heads)\n",
    "        self.norm1 = nn.LayerNorm()\n",
    "        self.norm2 = nn.LayerNorm()\n",
    "        self.feed_forward = nn.Sequential([\n",
    "            nn.Dense(self.embed_dim),\n",
    "            nn.gelu,\n",
    "            nn.Dense(self.embed_dim),\n",
    "        ])\n",
    "\n",
    "    def __call__(self, x, mask=None):\n",
    "        if mask is None:\n",
    "            mask = jnp.ones((x.shape[0],))\n",
    "        attn_out = self.attention(x, mask)\n",
    "        x = self.norm1(x + attn_out)\n",
    "        ff_out = self.feed_forward(x)\n",
    "        x = self.norm2(x + ff_out)\n",
    "        return jnp.where(mask[:, None], x, 0.)\n",
    "\n",
    "\n",
    "class Model(nn.Module):\n",
    "    embed_dim: int\n",
    "    num_heads: int\n",
    "    \n",
    "    \n",
    "    def setup(self):\n",
    "        self.multihead = TransformerEncoderLayer(self.embed_dim, self.num_heads)\n",
    "        self.multihead2 = TransformerEncoderLayer(self.embed_dim, self.num_heads)\n",
    "        self.multihead3 = TransformerEncoderLayer(self.embed_dim, self.num_heads)\n",
    "        self.lin = nn.Dense(1)\n",
    "        \n",
    "    def __call__(self, x, mask=None):\n",
    "        y = self.multihead(x, mask)\n",
    "        y = self.multihead2(y, mask)\n",
    "        y = self.multihead3(y, mask)\n",
    "        #y = y.flatten() #x = self.lin(x) #return self.lin(x)# + jnp.sum(x)\n",
    "        return jnp.sum(self.lin(y)) / x.shape[1] #+ jnp.sum(x) #self.lin(x) #jnp.sum(x)"
   ]
  },
  {
   "cell_type": "code",
   "execution_count": 3,
   "metadata": {},
   "outputs": [
    {
     "name": "stderr",
     "output_type": "stream",
     "text": [
      "An NVIDIA GPU may be present on this machine, but a CUDA-enabled jaxlib is not installed. Falling back to cpu.\n"
     ]
    },
    {
     "name": "stdout",
     "output_type": "stream",
     "text": [
      "5.551115123125783e-17\n",
      "0.0\n"
     ]
    }
   ],
   "source": [
    "key = jax.random.PRNGKey(0)\n",
    "\n",
    "data_dir = \"/home/emastr/moment-constrained-cryo-em/project_2/data/\"\n",
    "#data = jnp.load(f\"{data_dir}/train_data_dens_dom.npy\", allow_pickle=True).item()\n",
    "data = jnp.load(f\"{data_dir}/train_data_dens_dom.npy\", allow_pickle=True).item()\n",
    "\n",
    "\n",
    "x_train_pad = data[\"x\"]\n",
    "mask_train_pad = data[\"mask\"]\n",
    "y_train_pad = data[\"y\"]\n",
    "\n",
    "x_train_pad_std = jnp.std(x_train_pad, axis=(0,1))\n",
    "x_train_pad_mean = jnp.mean(x_train_pad, axis=(0,1))\n",
    "x_train_pad = (x_train_pad - x_train_pad_mean) / x_train_pad_std\n",
    "\n",
    "y_train_pad_std = jnp.std(y_train_pad)\n",
    "y_train_pad_mean = jnp.mean(y_train_pad)\n",
    "y_train_pad = (y_train_pad - y_train_pad_mean) / y_train_pad_std\n",
    "\n",
    "\n",
    "# MODEL\n",
    "num_data, seq_len, token_dim = x_train_pad.shape\n",
    "\n",
    "num_epochs= 2000\n",
    "num_heads = 16\n",
    "\n",
    "key = jax.random.PRNGKey(0)\n",
    "model = Model(token_dim, num_heads)#, dropout_rate)\n",
    "params = model.init(key, x_train_pad[0], mask_train_pad[0])\n",
    "\n",
    "x_test = x_train_pad[0]\n",
    "mask_test = mask_train_pad[0]\n",
    "\n",
    "# Test 1: Invariance to shuffling of sequences\n",
    "idx_seq = jnp.arange(seq_len)\n",
    "idx_seq = jax.random.permutation(key, idx_seq, axis=0)\n",
    "x_test_shuffled = x_test[idx_seq]\n",
    "mask_test_shuffled = mask_test[idx_seq]\n",
    "print(model.apply(params, x_test, mask_test) - model.apply(params, x_test_shuffled, mask_test_shuffled))\n",
    "\n",
    "# Test 2: Invariance to values of masked tokens\n",
    "mask_test_pert = mask_test.at[-1].set(0)\n",
    "x_test_pert = x_test.at[-1].set(x_test[0])\n",
    "print(model.apply(params, x_test, mask_test_pert) - model.apply(params, x_test_pert, mask_test_pert))"
   ]
  },
  {
   "cell_type": "code",
   "execution_count": null,
   "metadata": {},
   "outputs": [],
   "source": [
    "mx_err = lambda x,y: jnp.max(jnp.abs(x-y))\n",
    "l1_err = lambda x,y: jnp.mean(jnp.abs(x-y))\n",
    "l2_err = lambda x,y: jnp.mean((x-y)**2)\n",
    "norm_err = lambda err_fcn, y_apx, y_tru, y_ref: err_fcn(y_apx, y_tru) / err_fcn(y_ref, y_tru)\n",
    "\n",
    "model_vmap = vmap(model.apply, (None, 0, 0))\n",
    "loss_fcn = lambda param, x, mask, y: l2_err(model_vmap(param, x, mask).squeeze(), y)\n",
    "\n",
    "def metrics(par):\n",
    "    y_apx = vmap(model.apply, (None, 0, 0))(par, x_train_pad, mask_train_pad).squeeze()\n",
    "    y_ref = jnp.mean(y_train_pad)\n",
    "    y_tru = y_train_pad\n",
    "    \n",
    "    mxerr = norm_err(mx_err, y_apx, y_tru, y_ref)\n",
    "    l1err = norm_err(l1_err, y_apx, y_tru, y_ref)\n",
    "    l2err = norm_err(l2_err, y_apx, y_tru, y_ref) ** 0.5\n",
    "    return {\"max\": mxerr, \"l1\": l1err, \"l2\": l2err}\n",
    "\n",
    "def dict2str(d):\n",
    "    return \", \".join([f\"{k}: {v:.2e}\" for k,v in d.items()])\n",
    "\n",
    "for epoch in range(1000):\n",
    "    \n",
    "    key, subkey = jax.random.split(key)\n",
    "    batches = make_batches(subkey, x_train_pad, y_train_pad, mask_train_pad, batch_size=16)\n",
    "    for x_data, y_data, mask_data in batches:\n",
    "        loss, grads = jax.value_and_grad(loss_fcn)(params, x_data, mask_data, y_data)\n",
    "        params = jax.tree.map(lambda p, g: p - 1e-2*g, params, grads)\n",
    "        print(f\"loss: {loss:.2e}. Metrics: \" + dict2str(metrics(params)), end='\\r')\n",
    "#params, avg_losses, max_losses, min_losses  = train_model(key, model, x_train_pad, y_train_pad, mask_train_pad, batch_size, num_epochs, 1e-3)\n"
   ]
  },
  {
   "cell_type": "code",
   "execution_count": 16,
   "metadata": {},
   "outputs": [
    {
     "data": {
      "text/plain": [
       "<matplotlib.collections.PathCollection at 0x7f2ff1d3d280>"
      ]
     },
     "execution_count": 16,
     "metadata": {},
     "output_type": "execute_result"
    },
    {
     "data": {
      "image/png": "[encoded data removed]",
      "text/plain": [
       "<Figure size 640x480 with 1 Axes>"
      ]
     },
     "metadata": {},
     "output_type": "display_data"
    }
   ],
   "source": [
    "# Training observations:\n",
    "# - Loss is choppy (shoots back up and then down)\n",
    "# - Stays at 0.1\n",
    "# - Model should be able to fit the data\n",
    "\n",
    "# Next steps:\n",
    "# - Try to overfit a simple function (1. everywhere worked)\n",
    "# - Try to overfit on a small data set ()\n",
    "# - \n",
    "\n",
    "# * Super important for learning: Do not use bias in the QKV formulation??? \n",
    "# * Super important for learning: Normalize the data before feeding to model <- incredible how following ML research makes such a big difference\n",
    "# * Squeeze relevant dimensions to avoid broadcasting error\n",
    "# * \n",
    "\n",
    "jnp.save(f\"{data_dir}/params\", params, allow_pickle=True)\n",
    "params2 = jnp.load(f\"{data_dir}/params.npy\", allow_pickle=True).item()\n",
    "y_data_est = vmap(model.apply, (None, 0, 0))(params2, x_train_pad, mask_train_pad).squeeze()\n",
    "plt.scatter(y_data_est, y_train_pad)\n",
    "plt.scatter(y_data_est, y_data_est)"
   ]
  }
 ],
 "metadata": {
  "kernelspec": {
   "display_name": "jax",
   "language": "python",
   "name": "python3"
  },
  "language_info": {
   "codemirror_mode": {
    "name": "ipython",
    "version": 3
   },
   "file_extension": ".py",
   "mimetype": "text/x-python",
   "name": "python",
   "nbconvert_exporter": "python",
   "pygments_lexer": "ipython3",
   "version": "3.12.4"
  }
 },
 "nbformat": 4,
 "nbformat_minor": 2
}
