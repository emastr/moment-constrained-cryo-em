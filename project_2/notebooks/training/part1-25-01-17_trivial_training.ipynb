{
 "cells": [
  {
   "cell_type": "code",
   "execution_count": 1,
   "metadata": {},
   "outputs": [],
   "source": [
    "import sys\n",
    "sys.path.append('../')\n",
    "\n",
    "import jax\n",
    "# set jax precision 64 bit\n",
    "jax.config.update(\"jax_enable_x64\", True)\n",
    "\n",
    "from jax import vmap\n",
    "import jax.numpy as jnp\n",
    "import numpy as np\n",
    "import matplotlib.pyplot as plt\n",
    "from jax.numpy.fft import fft, ifft, fftshift, ifftshift, fftfreq\n",
    "from src.trees import get_1d_tree, get_data_1d, plot_1d_tree, is_far, get_real_features\n",
    "from src.trees import flatten_around_point, get_features, plot_1d_tree, data_plotter\n",
    "from src.trees import potential_from_features, potential_from_points\n",
    "from flax.training import train_state\n",
    "import optax\n",
    "import jax\n",
    "import jax.numpy as jnp\n",
    "import time\n",
    "from flax import linen as nn"
   ]
  },
  {
   "cell_type": "code",
   "execution_count": null,
   "metadata": {},
   "outputs": [
    {
     "name": "stderr",
     "output_type": "stream",
     "text": [
      "An NVIDIA GPU may be present on this machine, but a CUDA-enabled jaxlib is not installed. Falling back to cpu.\n"
     ]
    }
   ],
   "source": [
    "data = jnp.load(\"data/train_data.npy\", allow_pickle=True).item()\n",
    "x_train_pad = data[\"x\"]\n",
    "y_train_pad = data[\"y\"]\n",
    "mask_train_pad = data[\"mask\"]\n",
    "\n",
    "#x_train_pad_std = jnp.std(x_train_pad, axis=(0,1))\n",
    "#x_train_pad_mean = jnp.mean(x_train_pad, axis=(0,1))\n",
    "#x_train_pad = (x_train_pad - x_train_pad_mean) / x_train_pad_std\n",
    "\n",
    "#y_train_pad_std = jnp.std(y_train_pad)\n",
    "#y_train_pad_mean = jnp.mean(y_train_pad)\n",
    "#y_train_pad = (y_train_pad - y_train_pad_mean) / y_train_pad_std\n",
    "\n",
    "\n",
    "key = jax.random.PRNGKey(0)\n",
    "\n",
    "# MODEL\n",
    "num_epochs= 10000\n",
    "num_heads = 1\n",
    "ff_hidden_dim = 128\n",
    "num_layers = 6\n",
    "batch_size = 32\n",
    "\n",
    "key = jax.random.PRNGKey(0)\n",
    "num_data, seq_len, embed_dim = x_train_pad.shape\n",
    "model = Transformer(embed_dim, num_heads, ff_hidden_dim, num_layers)#, dropout_rate)\n",
    "params, avg_losses, max_losses, min_losses  = train_model(key, model, x_train_pad, y_train_pad, mask_train_pad, batch_size, num_epochs, 1e-3)"
   ]
  },
  {
   "cell_type": "code",
   "execution_count": 3,
   "metadata": {},
   "outputs": [],
   "source": [
    "training_result = {\"params\": params, \"avg_losses\": avg_losses, \"max_losses\": max_losses, \"min_losses\": min_losses}\n",
    "jnp.save(\"results2.npy\", training_result)"
   ]
  },
  {
   "cell_type": "code",
   "execution_count": 4,
   "metadata": {},
   "outputs": [
    {
     "name": "stdout",
     "output_type": "stream",
     "text": [
      "0.8500561843845668\n"
     ]
    },
    {
     "data": {
      "image/png": "[encoded data removed]",
      "text/plain": [
       "<Figure size 640x480 with 1 Axes>"
      ]
     },
     "metadata": {},
     "output_type": "display_data"
    }
   ],
   "source": [
    "#plt.plot(avg_losses)\n",
    "y_eval_pad = model.apply(params, x_train_pad, mask_train_pad)\n",
    "plt.scatter(y_train_pad, y_eval_pad)\n",
    "plt.plot(y_train_pad, y_train_pad, color='red')\n",
    "print((jnp.mean((y_train_pad-y_eval_pad)**2)/jnp.mean((y_eval_pad-jnp.mean(y_eval_pad))**2))**0.5)\n"
   ]
  },
  {
   "cell_type": "code",
   "execution_count": null,
   "metadata": {},
   "outputs": [],
   "source": [
    "# Training observations:\n",
    "# - Loss is choppy (shoots back up and then down)\n",
    "# - Stays at 0.1\n",
    "# - Model should be able to fit the data\n",
    "\n",
    "# Next steps:\n",
    "# - Try to overfit a simple function (1. everywhere worked)\n",
    "# - Try to overfit on a small data set ()\n",
    "# - "
   ]
  }
 ],
 "metadata": {
  "kernelspec": {
   "display_name": "jax",
   "language": "python",
   "name": "python3"
  },
  "language_info": {
   "codemirror_mode": {
    "name": "ipython",
    "version": 3
   },
   "file_extension": ".py",
   "mimetype": "text/x-python",
   "name": "python",
   "nbconvert_exporter": "python",
   "pygments_lexer": "ipython3",
   "version": "3.12.4"
  }
 },
 "nbformat": 4,
 "nbformat_minor": 2
}
