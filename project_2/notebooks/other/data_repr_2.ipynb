{
 "cells": [
  {
   "cell_type": "code",
   "execution_count": 1,
   "metadata": {},
   "outputs": [
    {
     "data": {
      "image/png": "[encoded data removed]",
      "text/plain": [
       "<Figure size 640x480 with 1 Axes>"
      ]
     },
     "metadata": {},
     "output_type": "display_data"
    },
    {
     "name": "stdout",
     "output_type": "stream",
     "text": [
      "{'children': [{'children': [{'children': [{'children': [{'children': [{'children': None, 'data': ([4], [0.027487616570055384], 0.015625, 0.03125)}, {'children': None, 'data': ([0], [0.0422262406620636], 0.046875, 0.03125)}], 'data': ([0, 4], [0.0422262406620636, 0.027487616570055384], 0.03125, 0.0625)}, {'children': [{'children': None, 'data': ([6], [0.07912453721485058], 0.078125, 0.03125)}, {'children': None, 'data': ([7], [0.09822364464274214], 0.109375, 0.03125)}], 'data': ([6, 7], [0.07912453721485058, 0.09822364464274214], 0.09375, 0.0625)}], 'data': ([0, 4, 6, 7], [0.0422262406620636, 0.027487616570055384, 0.07912453721485058, 0.09822364464274214], 0.0625, 0.125)}, {'children': [{'children': [{'children': None, 'data': ([1], [0.15062510166613907], 0.140625, 0.03125)}, {'children': None, 'data': ([5], [0.15877777638867985], 0.171875, 0.03125)}], 'data': ([1, 5], [0.15062510166613907, 0.15877777638867985], 0.15625, 0.0625)}, {'children': None, 'data': ([], [], 0.21875, 0.0625)}], 'data': ([1, 5], [0.15062510166613907, 0.15877777638867985], 0.1875, 0.125)}], 'data': ([0, 1, 4, 5, 6, 7], [0.0422262406620636, 0.15062510166613907, 0.027487616570055384, 0.15877777638867985, 0.07912453721485058, 0.09822364464274214], 0.125, 0.25)}, {'children': [{'children': None, 'data': ([8], [0.3406185070044172], 0.3125, 0.125)}, {'children': None, 'data': ([3], [0.4135207110905088], 0.4375, 0.125)}], 'data': ([3, 8], [0.4135207110905088, 0.3406185070044172], 0.375, 0.25)}], 'data': ([0, 1, 3, 4, 5, 6, 7, 8], [0.0422262406620636, 0.15062510166613907, 0.4135207110905088, 0.027487616570055384, 0.15877777638867985, 0.07912453721485058, 0.09822364464274214, 0.3406185070044172], 0.25, 0.5)}, {'children': [{'children': None, 'data': ([], [], 0.625, 0.25)}, {'children': [{'children': None, 'data': ([9], [0.8198920774546556], 0.8125, 0.125)}, {'children': None, 'data': ([2], [0.9108325021013743], 0.9375, 0.125)}], 'data': ([2, 9], [0.9108325021013743, 0.8198920774546556], 0.875, 0.25)}], 'data': ([2, 9], [0.9108325021013743, 0.8198920774546556], 0.75, 0.5)}], 'data': (array([0, 1, 2, 3, 4, 5, 6, 7, 8, 9]), array([0.04222624, 0.1506251 , 0.9108325 , 0.41352071, 0.02748762,\n",
      "       0.15877778, 0.07912454, 0.09822364, 0.34061851, 0.81989208]), 0.5, 1.0)}\n"
     ]
    }
   ],
   "source": [
    "import jax\n",
    "import jax.numpy as jnp\n",
    "from jax import tree_util\n",
    "import numpy as np\n",
    "import matplotlib.pyplot as plt\n",
    "\n",
    "def assign_to_segment(x, center_x):\n",
    "    \"\"\"Assigns a point to the left or right segment based on its position relative to center_x.\"\"\"\n",
    "    return int(x > center_x)\n",
    "\n",
    "def split_points_1d(i_list, x_list, center_x):\n",
    "    \"\"\"Splits points into left and right segments.\"\"\"\n",
    "    segments_i = [[], []]\n",
    "    segments_x = [[], []]\n",
    "    for i, x in zip(i_list, x_list):\n",
    "        idx = assign_to_segment(x, center_x)\n",
    "        segments_i[idx].append(i)\n",
    "        segments_x[idx].append(x)\n",
    "    return segments_i, segments_x\n",
    "\n",
    "def get_1d_tree(point_ids, points_x, center_x, width, max_points=1):\n",
    "    \"\"\"Recursively constructs a 1D tree.\"\"\"\n",
    "    if len(points_x) <= max_points:\n",
    "        return {\"children\": None, \"data\": (point_ids, points_x, center_x, width)}\n",
    "    else:\n",
    "        segments_i, segments_x = split_points_1d(point_ids, points_x, center_x)\n",
    "        center_x_list = (center_x - width / 4, center_x + width / 4)\n",
    "        widths = (width / 2, width / 2)\n",
    "        children = [\n",
    "            get_1d_tree(i, x, cx, w)\n",
    "            for i, x, cx, w in zip(segments_i, segments_x, center_x_list, widths)\n",
    "        ]\n",
    "        return {\"children\": children, \"data\": (point_ids, points_x, center_x, width)}\n",
    "\n",
    "def plot_1d_tree(tree, **kwargs):\n",
    "    \"\"\"Visualizes the 1D tree as a series of line segments.\"\"\"\n",
    "    cx, w = tree[\"data\"][-2:]\n",
    "    plt.plot([cx - w / 2, cx + w / 2], [0, 0], **kwargs)\n",
    "    children = tree[\"children\"]\n",
    "    if children is not None:\n",
    "        for child in children:\n",
    "            plot_1d_tree(child, **kwargs)\n",
    "\n",
    "def get_coef_1d(point_ids, points_x, center_x, mu):\n",
    "    \"\"\"Computes coefficients for points based on their distance from the center.\"\"\"\n",
    "    z = jnp.array(points_x) - center_x\n",
    "    return jnp.array([jnp.sum(mu[point_ids] * z**n) for n in range(5)])\n",
    "\n",
    "def compute_coef_1d(tree, mu):\n",
    "    \"\"\"Adds coefficients to the 1D tree.\"\"\"\n",
    "    data = tree[\"data\"]\n",
    "    point_ids, points_x, center_x, width = data\n",
    "    if len(points_x) == 0:\n",
    "        return {\"children\": tree[\"children\"], \"data\": (None, [], center_x, width)}\n",
    "    else:\n",
    "        c = get_coef_1d(point_ids, points_x, center_x, mu)\n",
    "        new_data = (c, point_ids, points_x, center_x, width)\n",
    "        return {\"children\": tree[\"children\"], \"data\": new_data}\n",
    "\n",
    "# Define a leaf predicate for JAX tree utilities\n",
    "def is_leaf_1d(node):\n",
    "    \"\"\"Checks if a node is a leaf by ensuring it is a dictionary and has no children.\"\"\"\n",
    "    return isinstance(node, dict) and node.get(\"children\") is None\n",
    "\n",
    "# Example usage\n",
    "N = 10\n",
    "point_ids = np.arange(N)\n",
    "points_x = np.random.rand(N)\n",
    "center_x = 0.5\n",
    "width = 1.0\n",
    "mu = np.ones(N)\n",
    "\n",
    "# Build the tree\n",
    "tree_1d = get_1d_tree(point_ids, points_x, center_x, width, max_points=1)\n",
    "\n",
    "# Plot the original tree\n",
    "plot_1d_tree(tree_1d)\n",
    "plt.scatter(points_x, [0] * N, color='red')\n",
    "\n",
    "# Use JAX's tree utilities to map coefficient computation\n",
    "new_tree_1d = tree_util.tree_map(\n",
    "    lambda node: compute_coef_1d(node, mu) if is_leaf_1d(node) else node,\n",
    "    tree_1d\n",
    ")\n",
    "\n",
    "# Plot the updated tree\n",
    "plot_1d_tree(new_tree_1d, color='blue', linestyle=':')\n",
    "plt.show()\n",
    "\n",
    "print(new_tree_1d)\n"
   ]
  }
 ],
 "metadata": {
  "kernelspec": {
   "display_name": "jax",
   "language": "python",
   "name": "python3"
  },
  "language_info": {
   "codemirror_mode": {
    "name": "ipython",
    "version": 3
   },
   "file_extension": ".py",
   "mimetype": "text/x-python",
   "name": "python",
   "nbconvert_exporter": "python",
   "pygments_lexer": "ipython3",
   "version": "3.12.4"
  }
 },
 "nbformat": 4,
 "nbformat_minor": 2
}
